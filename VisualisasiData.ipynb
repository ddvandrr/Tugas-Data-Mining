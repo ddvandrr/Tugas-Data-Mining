{
 "cells": [
  {
   "cell_type": "code",
   "execution_count": 26,
   "id": "5eaa3443-11da-453d-ba5f-6070771f6c8c",
   "metadata": {
    "tags": []
   },
   "outputs": [],
   "source": [
    "import numpy as np\n",
    "import matplotlib.pyplot as plt\n",
    "import pandas as pd"
   ]
  },
  {
   "cell_type": "code",
   "execution_count": 27,
   "id": "558701c8-2601-41a9-885f-8f636244d3a0",
   "metadata": {
    "tags": []
   },
   "outputs": [
    {
     "data": {
      "text/html": [
       "<div>\n",
       "<style scoped>\n",
       "    .dataframe tbody tr th:only-of-type {\n",
       "        vertical-align: middle;\n",
       "    }\n",
       "\n",
       "    .dataframe tbody tr th {\n",
       "        vertical-align: top;\n",
       "    }\n",
       "\n",
       "    .dataframe thead th {\n",
       "        text-align: right;\n",
       "    }\n",
       "</style>\n",
       "<table border=\"1\" class=\"dataframe\">\n",
       "  <thead>\n",
       "    <tr style=\"text-align: right;\">\n",
       "      <th></th>\n",
       "      <th>X</th>\n",
       "      <th>Y</th>\n",
       "      <th>month</th>\n",
       "      <th>day</th>\n",
       "      <th>FFMC</th>\n",
       "      <th>DMC</th>\n",
       "      <th>DC</th>\n",
       "      <th>ISI</th>\n",
       "      <th>temp</th>\n",
       "      <th>RH</th>\n",
       "      <th>wind</th>\n",
       "      <th>rain</th>\n",
       "      <th>area</th>\n",
       "    </tr>\n",
       "  </thead>\n",
       "  <tbody>\n",
       "    <tr>\n",
       "      <th>0</th>\n",
       "      <td>7</td>\n",
       "      <td>5</td>\n",
       "      <td>mar</td>\n",
       "      <td>fri</td>\n",
       "      <td>86.2</td>\n",
       "      <td>26.2</td>\n",
       "      <td>94.3</td>\n",
       "      <td>5.1</td>\n",
       "      <td>NaN</td>\n",
       "      <td>51</td>\n",
       "      <td>NaN</td>\n",
       "      <td>0.0</td>\n",
       "      <td>0.0</td>\n",
       "    </tr>\n",
       "    <tr>\n",
       "      <th>1</th>\n",
       "      <td>7</td>\n",
       "      <td>5</td>\n",
       "      <td>oct</td>\n",
       "      <td>tue</td>\n",
       "      <td>90.6</td>\n",
       "      <td>35.4</td>\n",
       "      <td>669.1</td>\n",
       "      <td>6.7</td>\n",
       "      <td>NaN</td>\n",
       "      <td>33</td>\n",
       "      <td>NaN</td>\n",
       "      <td>0.0</td>\n",
       "      <td>0.0</td>\n",
       "    </tr>\n",
       "    <tr>\n",
       "      <th>2</th>\n",
       "      <td>7</td>\n",
       "      <td>4</td>\n",
       "      <td>oct</td>\n",
       "      <td>sat</td>\n",
       "      <td>90.6</td>\n",
       "      <td>43.7</td>\n",
       "      <td>686.9</td>\n",
       "      <td>6.7</td>\n",
       "      <td>14.6</td>\n",
       "      <td>33</td>\n",
       "      <td>1.3</td>\n",
       "      <td>0.0</td>\n",
       "      <td>0.0</td>\n",
       "    </tr>\n",
       "    <tr>\n",
       "      <th>3</th>\n",
       "      <td>8</td>\n",
       "      <td>6</td>\n",
       "      <td>mar</td>\n",
       "      <td>fri</td>\n",
       "      <td>91.7</td>\n",
       "      <td>33.3</td>\n",
       "      <td>77.5</td>\n",
       "      <td>9.0</td>\n",
       "      <td>8.3</td>\n",
       "      <td>97</td>\n",
       "      <td>NaN</td>\n",
       "      <td>0.2</td>\n",
       "      <td>0.0</td>\n",
       "    </tr>\n",
       "    <tr>\n",
       "      <th>4</th>\n",
       "      <td>8</td>\n",
       "      <td>6</td>\n",
       "      <td>mar</td>\n",
       "      <td>sun</td>\n",
       "      <td>89.3</td>\n",
       "      <td>51.3</td>\n",
       "      <td>102.2</td>\n",
       "      <td>9.6</td>\n",
       "      <td>11.4</td>\n",
       "      <td>99</td>\n",
       "      <td>1.8</td>\n",
       "      <td>0.0</td>\n",
       "      <td>0.0</td>\n",
       "    </tr>\n",
       "  </tbody>\n",
       "</table>\n",
       "</div>"
      ],
      "text/plain": [
       "   X  Y month  day  FFMC   DMC     DC  ISI  temp  RH  wind  rain  area\n",
       "0  7  5   mar  fri  86.2  26.2   94.3  5.1   NaN  51   NaN   0.0   0.0\n",
       "1  7  5   oct  tue  90.6  35.4  669.1  6.7   NaN  33   NaN   0.0   0.0\n",
       "2  7  4   oct  sat  90.6  43.7  686.9  6.7  14.6  33   1.3   0.0   0.0\n",
       "3  8  6   mar  fri  91.7  33.3   77.5  9.0   8.3  97   NaN   0.2   0.0\n",
       "4  8  6   mar  sun  89.3  51.3  102.2  9.6  11.4  99   1.8   0.0   0.0"
      ]
     },
     "execution_count": 27,
     "metadata": {},
     "output_type": "execute_result"
    }
   ],
   "source": [
    "#membaca data csv\n",
    "data = pd.read_csv('forestfires.csv')\n",
    "data.head()"
   ]
  },
  {
   "cell_type": "code",
   "execution_count": 28,
   "id": "4fe0888c-eb86-4bff-9c4d-d690ff874012",
   "metadata": {
    "tags": []
   },
   "outputs": [
    {
     "name": "stdout",
     "output_type": "stream",
     "text": [
      "<class 'pandas.core.frame.DataFrame'>\n",
      "RangeIndex: 517 entries, 0 to 516\n",
      "Data columns (total 13 columns):\n",
      " #   Column  Non-Null Count  Dtype  \n",
      "---  ------  --------------  -----  \n",
      " 0   X       517 non-null    int64  \n",
      " 1   Y       517 non-null    int64  \n",
      " 2   month   517 non-null    object \n",
      " 3   day     517 non-null    object \n",
      " 4   FFMC    517 non-null    float64\n",
      " 5   DMC     517 non-null    float64\n",
      " 6   DC      517 non-null    float64\n",
      " 7   ISI     517 non-null    float64\n",
      " 8   temp    515 non-null    float64\n",
      " 9   RH      517 non-null    int64  \n",
      " 10  wind    514 non-null    float64\n",
      " 11  rain    517 non-null    float64\n",
      " 12  area    517 non-null    float64\n",
      "dtypes: float64(8), int64(3), object(2)\n",
      "memory usage: 52.6+ KB\n"
     ]
    }
   ],
   "source": [
    "#melihat ringkasan data\n",
    "data.info()"
   ]
  },
  {
   "cell_type": "code",
   "execution_count": 29,
   "id": "e579ba99-2827-4263-bfc9-37c05b08d9c8",
   "metadata": {
    "tags": []
   },
   "outputs": [
    {
     "data": {
      "text/plain": [
       "array(['mar', 'oct', 'aug', 'sep', 'apr', 'jun', 'jul', 'feb', 'jan',\n",
       "       'dec', 'may', 'nov'], dtype=object)"
      ]
     },
     "execution_count": 29,
     "metadata": {},
     "output_type": "execute_result"
    }
   ],
   "source": [
    "#melihat last update yang unique\n",
    "data['month'].unique()"
   ]
  },
  {
   "cell_type": "code",
   "execution_count": 30,
   "id": "9509d698-bc1a-4406-9a28-85bd1193b231",
   "metadata": {
    "tags": []
   },
   "outputs": [
    {
     "data": {
      "text/html": [
       "<div>\n",
       "<style scoped>\n",
       "    .dataframe tbody tr th:only-of-type {\n",
       "        vertical-align: middle;\n",
       "    }\n",
       "\n",
       "    .dataframe tbody tr th {\n",
       "        vertical-align: top;\n",
       "    }\n",
       "\n",
       "    .dataframe thead th {\n",
       "        text-align: right;\n",
       "    }\n",
       "</style>\n",
       "<table border=\"1\" class=\"dataframe\">\n",
       "  <thead>\n",
       "    <tr style=\"text-align: right;\">\n",
       "      <th></th>\n",
       "      <th>X</th>\n",
       "      <th>Y</th>\n",
       "      <th>month</th>\n",
       "      <th>day</th>\n",
       "      <th>FFMC</th>\n",
       "      <th>DMC</th>\n",
       "      <th>DC</th>\n",
       "      <th>ISI</th>\n",
       "      <th>temp</th>\n",
       "      <th>RH</th>\n",
       "      <th>wind</th>\n",
       "      <th>rain</th>\n",
       "      <th>area</th>\n",
       "    </tr>\n",
       "  </thead>\n",
       "  <tbody>\n",
       "    <tr>\n",
       "      <th>273</th>\n",
       "      <td>4</td>\n",
       "      <td>6</td>\n",
       "      <td>dec</td>\n",
       "      <td>sun</td>\n",
       "      <td>84.4</td>\n",
       "      <td>27.2</td>\n",
       "      <td>353.5</td>\n",
       "      <td>6.8</td>\n",
       "      <td>4.8</td>\n",
       "      <td>57</td>\n",
       "      <td>8.5</td>\n",
       "      <td>0.0</td>\n",
       "      <td>8.98</td>\n",
       "    </tr>\n",
       "    <tr>\n",
       "      <th>274</th>\n",
       "      <td>8</td>\n",
       "      <td>6</td>\n",
       "      <td>dec</td>\n",
       "      <td>wed</td>\n",
       "      <td>84.0</td>\n",
       "      <td>27.8</td>\n",
       "      <td>354.6</td>\n",
       "      <td>5.3</td>\n",
       "      <td>5.1</td>\n",
       "      <td>61</td>\n",
       "      <td>8.0</td>\n",
       "      <td>0.0</td>\n",
       "      <td>11.19</td>\n",
       "    </tr>\n",
       "    <tr>\n",
       "      <th>275</th>\n",
       "      <td>4</td>\n",
       "      <td>6</td>\n",
       "      <td>dec</td>\n",
       "      <td>thu</td>\n",
       "      <td>84.6</td>\n",
       "      <td>26.4</td>\n",
       "      <td>352.0</td>\n",
       "      <td>2.0</td>\n",
       "      <td>5.1</td>\n",
       "      <td>61</td>\n",
       "      <td>4.9</td>\n",
       "      <td>0.0</td>\n",
       "      <td>5.38</td>\n",
       "    </tr>\n",
       "    <tr>\n",
       "      <th>276</th>\n",
       "      <td>4</td>\n",
       "      <td>4</td>\n",
       "      <td>dec</td>\n",
       "      <td>mon</td>\n",
       "      <td>85.4</td>\n",
       "      <td>25.4</td>\n",
       "      <td>349.7</td>\n",
       "      <td>2.6</td>\n",
       "      <td>4.6</td>\n",
       "      <td>21</td>\n",
       "      <td>8.5</td>\n",
       "      <td>0.0</td>\n",
       "      <td>17.85</td>\n",
       "    </tr>\n",
       "    <tr>\n",
       "      <th>277</th>\n",
       "      <td>3</td>\n",
       "      <td>4</td>\n",
       "      <td>dec</td>\n",
       "      <td>mon</td>\n",
       "      <td>85.4</td>\n",
       "      <td>25.4</td>\n",
       "      <td>349.7</td>\n",
       "      <td>2.6</td>\n",
       "      <td>4.6</td>\n",
       "      <td>21</td>\n",
       "      <td>8.5</td>\n",
       "      <td>0.0</td>\n",
       "      <td>10.73</td>\n",
       "    </tr>\n",
       "    <tr>\n",
       "      <th>278</th>\n",
       "      <td>4</td>\n",
       "      <td>4</td>\n",
       "      <td>dec</td>\n",
       "      <td>mon</td>\n",
       "      <td>85.4</td>\n",
       "      <td>25.4</td>\n",
       "      <td>349.7</td>\n",
       "      <td>2.6</td>\n",
       "      <td>4.6</td>\n",
       "      <td>21</td>\n",
       "      <td>8.5</td>\n",
       "      <td>0.0</td>\n",
       "      <td>22.03</td>\n",
       "    </tr>\n",
       "    <tr>\n",
       "      <th>279</th>\n",
       "      <td>4</td>\n",
       "      <td>4</td>\n",
       "      <td>dec</td>\n",
       "      <td>mon</td>\n",
       "      <td>85.4</td>\n",
       "      <td>25.4</td>\n",
       "      <td>349.7</td>\n",
       "      <td>2.6</td>\n",
       "      <td>4.6</td>\n",
       "      <td>21</td>\n",
       "      <td>8.5</td>\n",
       "      <td>0.0</td>\n",
       "      <td>9.77</td>\n",
       "    </tr>\n",
       "    <tr>\n",
       "      <th>280</th>\n",
       "      <td>4</td>\n",
       "      <td>6</td>\n",
       "      <td>dec</td>\n",
       "      <td>fri</td>\n",
       "      <td>84.7</td>\n",
       "      <td>26.7</td>\n",
       "      <td>352.6</td>\n",
       "      <td>4.1</td>\n",
       "      <td>2.2</td>\n",
       "      <td>59</td>\n",
       "      <td>4.9</td>\n",
       "      <td>0.0</td>\n",
       "      <td>9.27</td>\n",
       "    </tr>\n",
       "    <tr>\n",
       "      <th>281</th>\n",
       "      <td>6</td>\n",
       "      <td>5</td>\n",
       "      <td>dec</td>\n",
       "      <td>tue</td>\n",
       "      <td>85.4</td>\n",
       "      <td>25.4</td>\n",
       "      <td>349.7</td>\n",
       "      <td>2.6</td>\n",
       "      <td>5.1</td>\n",
       "      <td>24</td>\n",
       "      <td>8.5</td>\n",
       "      <td>0.0</td>\n",
       "      <td>24.77</td>\n",
       "    </tr>\n",
       "  </tbody>\n",
       "</table>\n",
       "</div>"
      ],
      "text/plain": [
       "     X  Y month  day  FFMC   DMC     DC  ISI  temp  RH  wind  rain   area\n",
       "273  4  6   dec  sun  84.4  27.2  353.5  6.8   4.8  57   8.5   0.0   8.98\n",
       "274  8  6   dec  wed  84.0  27.8  354.6  5.3   5.1  61   8.0   0.0  11.19\n",
       "275  4  6   dec  thu  84.6  26.4  352.0  2.0   5.1  61   4.9   0.0   5.38\n",
       "276  4  4   dec  mon  85.4  25.4  349.7  2.6   4.6  21   8.5   0.0  17.85\n",
       "277  3  4   dec  mon  85.4  25.4  349.7  2.6   4.6  21   8.5   0.0  10.73\n",
       "278  4  4   dec  mon  85.4  25.4  349.7  2.6   4.6  21   8.5   0.0  22.03\n",
       "279  4  4   dec  mon  85.4  25.4  349.7  2.6   4.6  21   8.5   0.0   9.77\n",
       "280  4  6   dec  fri  84.7  26.7  352.6  4.1   2.2  59   4.9   0.0   9.27\n",
       "281  6  5   dec  tue  85.4  25.4  349.7  2.6   5.1  24   8.5   0.0  24.77"
      ]
     },
     "execution_count": 30,
     "metadata": {},
     "output_type": "execute_result"
    }
   ],
   "source": [
    "#membuat statis/melihat kolom yang variable nya statis\n",
    "latest_date = 'dec'\n",
    "data[data['month']==latest_date]"
   ]
  },
  {
   "cell_type": "code",
   "execution_count": 31,
   "id": "531bdfc8-2a17-4425-999f-cd93cba998f9",
   "metadata": {
    "tags": []
   },
   "outputs": [
    {
     "data": {
      "text/plain": [
       "array(['fri', 'mon', 'sat', 'sun', 'thu', 'tue', 'wed'], dtype=object)"
      ]
     },
     "execution_count": 31,
     "metadata": {},
     "output_type": "execute_result"
    }
   ],
   "source": [
    "#melihat day yang unique\n",
    "unique_day = data[data.temp>0]['day'].unique()\n",
    "unique_day.sort()\n",
    "unique_day"
   ]
  },
  {
   "cell_type": "code",
   "execution_count": 32,
   "id": "d5bc6750-69a7-48e5-bfff-3626fe8d439a",
   "metadata": {
    "tags": []
   },
   "outputs": [
    {
     "name": "stderr",
     "output_type": "stream",
     "text": [
      "C:\\Users\\rhyan\\AppData\\Local\\Temp\\ipykernel_16368\\1964691480.py:3: UserWarning: Boolean Series key will be reindexed to match DataFrame index.\n",
      "  day_temp_case.append(data[data.temp>0][data['day']==i][data['month']==latest_date].temp.sum())\n"
     ]
    }
   ],
   "source": [
    "day_temp_case = []\n",
    "for i in unique_day:\n",
    "    day_temp_case.append(data[data.temp>0][data['day']==i][data['month']==latest_date].temp.sum())"
   ]
  },
  {
   "cell_type": "code",
   "execution_count": 33,
   "id": "0510bf77-56d8-429c-9350-6f6d0070e40e",
   "metadata": {
    "tags": []
   },
   "outputs": [
    {
     "name": "stdout",
     "output_type": "stream",
     "text": [
      "{('sat', 0.0), ('sun', 4.8), ('thu', 5.1), ('fri', 2.2), ('wed', 5.1), ('tue', 5.1), ('mon', 18.4)}\n"
     ]
    }
   ],
   "source": [
    "print(set(zip(unique_day, day_temp_case)))"
   ]
  },
  {
   "cell_type": "code",
   "execution_count": 34,
   "id": "ce6601be-8d1c-415c-8462-80e36bedbb80",
   "metadata": {
    "tags": []
   },
   "outputs": [
    {
     "data": {
      "text/plain": [
       "array(['oct', 'mar', 'aug', 'sep', 'apr', 'jun', 'jul', 'feb', 'jan',\n",
       "       'dec', 'may', 'nov'], dtype=object)"
      ]
     },
     "execution_count": 34,
     "metadata": {},
     "output_type": "execute_result"
    }
   ],
   "source": [
    "unique_month = data['month'][data.temp>1].unique()\n",
    "unique_month"
   ]
  },
  {
   "cell_type": "code",
   "execution_count": 35,
   "id": "381fab69-5230-4476-b525-8e357749a658",
   "metadata": {
    "tags": []
   },
   "outputs": [
    {
     "name": "stderr",
     "output_type": "stream",
     "text": [
      "C:\\Users\\rhyan\\AppData\\Local\\Temp\\ipykernel_16368\\4125923029.py:3: UserWarning: Boolean Series key will be reindexed to match DataFrame index.\n",
      "  month_temp_case.append(data[data.temp>0][data['temp']==i][data['day']==latest_date].temp.sum())\n"
     ]
    }
   ],
   "source": [
    "month_temp_case = []\n",
    "for i in unique_month:\n",
    "    month_temp_case.append(data[data.temp>0][data['temp']==i][data['day']==latest_date].temp.sum())"
   ]
  },
  {
   "cell_type": "code",
   "execution_count": 36,
   "id": "01d4071b-7a5c-46d0-a1d3-31d412d7d5bb",
   "metadata": {
    "tags": []
   },
   "outputs": [
    {
     "name": "stdout",
     "output_type": "stream",
     "text": [
      "{('jun', 0.0), ('jul', 0.0), ('feb', 0.0), ('apr', 0.0), ('may', 0.0), ('jan', 0.0), ('nov', 0.0), ('dec', 0.0), ('oct', 0.0), ('mar', 0.0), ('aug', 0.0), ('sep', 0.0)}\n"
     ]
    }
   ],
   "source": [
    "print(set(zip(unique_month, month_temp_case)))"
   ]
  },
  {
   "cell_type": "code",
   "execution_count": 37,
   "id": "330b4e4d-8930-4f59-b89e-34c6868c63eb",
   "metadata": {
    "tags": []
   },
   "outputs": [],
   "source": [
    "nan_indices = []\n",
    "for i in range(len(unique_month)):\n",
    "    if type(unique_month[i])==float:\n",
    "        nan_indices.append(i)"
   ]
  },
  {
   "cell_type": "code",
   "execution_count": 38,
   "id": "946e81a7-5928-442f-b398-57b7dbcf1483",
   "metadata": {
    "tags": []
   },
   "outputs": [],
   "source": [
    "unique_month = list(unique_month)\n",
    "month_temp_case = list(month_temp_case)"
   ]
  },
  {
   "cell_type": "code",
   "execution_count": 39,
   "id": "6ac0f36d-c722-4549-b604-4d5396e373c6",
   "metadata": {
    "tags": []
   },
   "outputs": [
    {
     "data": {
      "text/plain": [
       "['oct',\n",
       " 'mar',\n",
       " 'aug',\n",
       " 'sep',\n",
       " 'apr',\n",
       " 'jun',\n",
       " 'jul',\n",
       " 'feb',\n",
       " 'jan',\n",
       " 'dec',\n",
       " 'may',\n",
       " 'nov']"
      ]
     },
     "execution_count": 39,
     "metadata": {},
     "output_type": "execute_result"
    }
   ],
   "source": [
    "for i in nan_indices:\n",
    "    unique_month.pop(i)\n",
    "    month_temp_case.pop(i)\n",
    "    \n",
    "unique_month"
   ]
  },
  {
   "cell_type": "code",
   "execution_count": 40,
   "id": "1f53de4a-33e7-4197-93bd-10ce313e60ef",
   "metadata": {
    "tags": []
   },
   "outputs": [
    {
     "data": {
      "text/plain": [
       "<function matplotlib.pyplot.show(close=None, block=None)>"
      ]
     },
     "execution_count": 40,
     "metadata": {},
     "output_type": "execute_result"
    },
    {
     "data": {
      "image/png": "[encoded data removed]",
      "text/plain": [
       "<Figure size 640x480 with 1 Axes>"
      ]
     },
     "metadata": {},
     "output_type": "display_data"
    }
   ],
   "source": [
    "plt.barh(unique_day, day_temp_case)\n",
    "plt.show"
   ]
  },
  {
   "cell_type": "code",
   "execution_count": 41,
   "id": "b748a3f3-b6a4-4fd9-afa2-8523d580af7b",
   "metadata": {
    "tags": []
   },
   "outputs": [
    {
     "data": {
      "text/plain": [
       "<function matplotlib.pyplot.show(close=None, block=None)>"
      ]
     },
     "execution_count": 41,
     "metadata": {},
     "output_type": "execute_result"
    },
    {
     "data": {
      "image/png": "[encoded data removed]",
      "text/plain": [
       "<Figure size 640x480 with 1 Axes>"
      ]
     },
     "metadata": {},
     "output_type": "display_data"
    }
   ],
   "source": [
    "plt.barh(unique_month, month_temp_case)\n",
    "plt.show"
   ]
  },
  {
   "cell_type": "code",
   "execution_count": 42,
   "id": "c15701b9-4317-4424-9fe5-09a74eae17ec",
   "metadata": {
    "tags": []
   },
   "outputs": [
    {
     "data": {
      "image/png": "[encoded data removed]",
      "text/plain": [
       "<Figure size 1000x1000 with 1 Axes>"
      ]
     },
     "metadata": {},
     "output_type": "display_data"
    }
   ],
   "source": [
    "plt.figure(figsize=(10,10))\n",
    "plt.pie(day_temp_case)\n",
    "plt.legend(unique_day, loc='best')\n",
    "plt.show()"
   ]
  },
  {
   "cell_type": "code",
   "execution_count": 50,
   "id": "6cd6b82c-afa2-417f-8000-f9c84380aadb",
   "metadata": {
    "tags": []
   },
   "outputs": [
    {
     "data": {
      "image/png": "[encoded data removed]",
      "text/plain": [
       "<Figure size 1000x1000 with 1 Axes>"
      ]
     },
     "metadata": {},
     "output_type": "display_data"
    }
   ],
   "source": [
    "plt.figure(figsize=(10,10))\n",
    "plt.legend(unique_month, loc='best')\n",
    "plt.show()"
   ]
  },
  {
   "cell_type": "code",
   "execution_count": null,
   "id": "4866eb4b-8c93-4b8d-b3b4-112284676c70",
   "metadata": {},
   "outputs": [],
   "source": []
  }
 ],
 "metadata": {
  "kernelspec": {
   "display_name": "Python 3 (ipykernel)",
   "language": "python",
   "name": "python3"
  },
  "language_info": {
   "codemirror_mode": {
    "name": "ipython",
    "version": 3
   },
   "file_extension": ".py",
   "mimetype": "text/x-python",
   "name": "python",
   "nbconvert_exporter": "python",
   "pygments_lexer": "ipython3",
   "version": "3.11.2"
  }
 },
 "nbformat": 4,
 "nbformat_minor": 5
}
